{
 "cells": [
  {
   "cell_type": "code",
   "execution_count": 1,
   "id": "2d532d3b-4ab2-4f8e-8547-de648114c7ea",
   "metadata": {},
   "outputs": [
    {
     "data": {
      "text/html": [
       "<div>\n",
       "<style scoped>\n",
       "    .dataframe tbody tr th:only-of-type {\n",
       "        vertical-align: middle;\n",
       "    }\n",
       "\n",
       "    .dataframe tbody tr th {\n",
       "        vertical-align: top;\n",
       "    }\n",
       "\n",
       "    .dataframe thead th {\n",
       "        text-align: right;\n",
       "    }\n",
       "</style>\n",
       "<table border=\"1\" class=\"dataframe\">\n",
       "  <thead>\n",
       "    <tr style=\"text-align: right;\">\n",
       "      <th></th>\n",
       "      <th>title</th>\n",
       "      <th>text</th>\n",
       "      <th>label</th>\n",
       "      <th>tokens</th>\n",
       "      <th>lemmas</th>\n",
       "      <th>lemmas-joined</th>\n",
       "    </tr>\n",
       "  </thead>\n",
       "  <tbody>\n",
       "    <tr>\n",
       "      <th>0</th>\n",
       "      <td>A whirlwind day in D.C. showcases Trump’s unor...</td>\n",
       "      <td>Donald Trump endorsed an unabashedly noninterv...</td>\n",
       "      <td>REAL</td>\n",
       "      <td>[donald, trump, endorsed, an, unabashedly, non...</td>\n",
       "      <td>[donald, trump, endorse, unabashedly, noninter...</td>\n",
       "      <td>donald trump endorse unabashedly noninterventi...</td>\n",
       "    </tr>\n",
       "    <tr>\n",
       "      <th>1</th>\n",
       "      <td>In Baltimore's call for federal police probe, ...</td>\n",
       "      <td>While some Justice Department investigations a...</td>\n",
       "      <td>REAL</td>\n",
       "      <td>[while, some, justice, department, investigati...</td>\n",
       "      <td>[justice, department, investigation, adversari...</td>\n",
       "      <td>justice department investigation adversarial n...</td>\n",
       "    </tr>\n",
       "    <tr>\n",
       "      <th>2</th>\n",
       "      <td>Trump Proudly Declares: Most Of The People I’v...</td>\n",
       "      <td>Trump Proudly Declares: Most Of The People I’v...</td>\n",
       "      <td>FAKE</td>\n",
       "      <td>[trump, proudly, declares, :, most, of, the, p...</td>\n",
       "      <td>[trump, proudly, declare, people, insult, dese...</td>\n",
       "      <td>trump proudly declare people insult deserved a...</td>\n",
       "    </tr>\n",
       "    <tr>\n",
       "      <th>3</th>\n",
       "      <td>Inside the Trump-Bush melodrama: Decades of te...</td>\n",
       "      <td>Donald Trump spent a day in January 2014 hobno...</td>\n",
       "      <td>REAL</td>\n",
       "      <td>[donald, trump, spent, a, day, in, january, 20...</td>\n",
       "      <td>[donald, trump, spend, day, january, 2014, hob...</td>\n",
       "      <td>donald trump spend day january 2014 hobnob pol...</td>\n",
       "    </tr>\n",
       "    <tr>\n",
       "      <th>4</th>\n",
       "      <td>Shutdown clash to return in force by December</td>\n",
       "      <td>Notable names include Ray Washburne (Commerce)...</td>\n",
       "      <td>REAL</td>\n",
       "      <td>[notable, names, include, ray, washburne, (, c...</td>\n",
       "      <td>[notable, name, include, ray, washburne, comme...</td>\n",
       "      <td>notable name include ray washburne commerce da...</td>\n",
       "    </tr>\n",
       "  </tbody>\n",
       "</table>\n",
       "</div>"
      ],
      "text/plain": [
       "                                               title  \\\n",
       "0  A whirlwind day in D.C. showcases Trump’s unor...   \n",
       "1  In Baltimore's call for federal police probe, ...   \n",
       "2  Trump Proudly Declares: Most Of The People I’v...   \n",
       "3  Inside the Trump-Bush melodrama: Decades of te...   \n",
       "4      Shutdown clash to return in force by December   \n",
       "\n",
       "                                                text label  \\\n",
       "0  Donald Trump endorsed an unabashedly noninterv...  REAL   \n",
       "1  While some Justice Department investigations a...  REAL   \n",
       "2  Trump Proudly Declares: Most Of The People I’v...  FAKE   \n",
       "3  Donald Trump spent a day in January 2014 hobno...  REAL   \n",
       "4  Notable names include Ray Washburne (Commerce)...  REAL   \n",
       "\n",
       "                                              tokens  \\\n",
       "0  [donald, trump, endorsed, an, unabashedly, non...   \n",
       "1  [while, some, justice, department, investigati...   \n",
       "2  [trump, proudly, declares, :, most, of, the, p...   \n",
       "3  [donald, trump, spent, a, day, in, january, 20...   \n",
       "4  [notable, names, include, ray, washburne, (, c...   \n",
       "\n",
       "                                              lemmas  \\\n",
       "0  [donald, trump, endorse, unabashedly, noninter...   \n",
       "1  [justice, department, investigation, adversari...   \n",
       "2  [trump, proudly, declare, people, insult, dese...   \n",
       "3  [donald, trump, spend, day, january, 2014, hob...   \n",
       "4  [notable, name, include, ray, washburne, comme...   \n",
       "\n",
       "                                       lemmas-joined  \n",
       "0  donald trump endorse unabashedly noninterventi...  \n",
       "1  justice department investigation adversarial n...  \n",
       "2  trump proudly declare people insult deserved a...  \n",
       "3  donald trump spend day january 2014 hobnob pol...  \n",
       "4  notable name include ray washburne commerce da...  "
      ]
     },
     "execution_count": 1,
     "metadata": {},
     "output_type": "execute_result"
    }
   ],
   "source": [
    "import matplotlib.pyplot as plt\n",
    "import seaborn as sns\n",
    "import numpy as np\n",
    "import pandas as pd\n",
    "import joblib\n",
    "\n",
    "loaded = joblib.load('Data/Fake_Real_News_Data.joblib')\n",
    "df = loaded['df']\n",
    "# Join list of lemmas into a string with spaces between each lemma\n",
    "df['lemmas-joined'] = df['lemmas'].apply(lambda x: \" \".join(x))\n",
    "df.head()"
   ]
  },
  {
   "cell_type": "markdown",
   "id": "83d25555-6e7d-4fde-8ef8-662b50107172",
   "metadata": {},
   "source": [
    "# Prepare the Data for classification model"
   ]
  },
  {
   "cell_type": "code",
   "execution_count": 2,
   "id": "ba0b73c6-cbc8-4160-a4dd-290534927363",
   "metadata": {},
   "outputs": [
    {
     "data": {
      "text/plain": [
       "REAL    0.500552\n",
       "FAKE    0.499448\n",
       "Name: label, dtype: float64"
      ]
     },
     "execution_count": 2,
     "metadata": {},
     "output_type": "execute_result"
    }
   ],
   "source": [
    "from sklearn.model_selection import train_test_split\n",
    "from sklearn.pipeline import Pipeline\n",
    "from sklearn.feature_extraction.text import CountVectorizer, TfidfVectorizer\n",
    "\n",
    "X=df['lemmas-joined']\n",
    "y=df['label']\n",
    "# Checking class balance \n",
    "y.value_counts(normalize=True)"
   ]
  },
  {
   "cell_type": "code",
   "execution_count": 3,
   "id": "eccf3d7f-05de-4b3e-a66d-71fc4262150a",
   "metadata": {},
   "outputs": [],
   "source": [
    "from sklearn.metrics import classification_report, ConfusionMatrixDisplay\n",
    "\n",
    "def classification_metrics(y_true, y_pred, label='',\n",
    "                           output_dict=False, figsize=(8,4),\n",
    "                           normalize='true', cmap='Blues',\n",
    "                           colorbar=False,values_format=\".2f\"):\n",
    "\n",
    "    # Get the classification report\n",
    "    report = classification_report(y_true, y_pred)\n",
    "    \n",
    "    ## Print header and report\n",
    "    header = \"-\"*70\n",
    "    print(header, f\" Classification Metrics: {label}\", header, sep='\\n')\n",
    "    print(report)\n",
    "    \n",
    "    ## CONFUSION MATRICES SUBPLOTS\n",
    "    fig, axes = plt.subplots(ncols=2, figsize=figsize)\n",
    "    \n",
    "    # Create a confusion matrix  of raw counts (left subplot)\n",
    "    ConfusionMatrixDisplay.from_predictions(y_true, y_pred,\n",
    "                                            normalize=None, \n",
    "                                            cmap='gist_gray_r',# Updated cmap\n",
    "                                            values_format=\"d\", \n",
    "                                            colorbar=colorbar,\n",
    "                                            ax = axes[0]);\n",
    "    axes[0].set_title(\"Raw Counts\")\n",
    "    \n",
    "    # Create a confusion matrix with the data with normalize argument \n",
    "    ConfusionMatrixDisplay.from_predictions(y_true, y_pred,\n",
    "                                            normalize=normalize,\n",
    "                                            cmap=cmap, \n",
    "                                            values_format=values_format, #New arg\n",
    "                                            colorbar=colorbar,\n",
    "                                            ax = axes[1]);\n",
    "    axes[1].set_title(\"Normalized Confusion Matrix\")\n",
    "    \n",
    "    # Adjust layout and show figure\n",
    "    fig.tight_layout()\n",
    "    plt.show()\n",
    "    \n",
    "    # Return dictionary of classification_report\n",
    "    if output_dict==True:\n",
    "        report_dict = classification_report(y_true, y_pred, output_dict=True)\n",
    "        return report_dict\n",
    "    \n",
    "    \n",
    "def evaluate_classification(model, X_train, y_train, X_test, y_test,\n",
    "                         figsize=(6,4), normalize='true', output_dict = False,\n",
    "                            cmap_train='Blues', cmap_test=\"Reds\",colorbar=False):\n",
    "  # Get predictions for training data\n",
    "  y_train_pred = model.predict(X_train)\n",
    "  # Call the helper function to obtain regression metrics for training data\n",
    "  results_train = classification_metrics(y_train, y_train_pred, #verbose = verbose,\n",
    "                                     output_dict=True, figsize=figsize,\n",
    "                                         colorbar=colorbar, cmap=cmap_train,\n",
    "                                     label='Training Data')\n",
    "  print()\n",
    "  # Get predictions for test data\n",
    "  y_test_pred = model.predict(X_test)\n",
    "  # Call the helper function to obtain regression metrics for test data\n",
    "  results_test = classification_metrics(y_test, y_test_pred, #verbose = verbose,\n",
    "                                  output_dict=True,figsize=figsize,\n",
    "                                         colorbar=colorbar, cmap=cmap_test,\n",
    "                                    label='Test Data' )\n",
    "  if output_dict == True:\n",
    "    # Store results in a dataframe if ouput_frame is True\n",
    "    results_dict = {'train':results_train,\n",
    "                    'test': results_test}\n",
    "    return results_dict"
   ]
  },
  {
   "cell_type": "code",
   "execution_count": 4,
   "id": "10df6e9b-0c86-4ba2-a503-4f5986bddf7f",
   "metadata": {},
   "outputs": [],
   "source": [
    "from sklearn.linear_model import LogisticRegression\n",
    "from sklearn.naive_bayes import MultinomialNB\n",
    "from sklearn.model_selection import GridSearchCV\n",
    "\n",
    "# Train test split\n",
    "X_train, X_test, y_train, y_test = train_test_split(X, y, random_state=42)\n",
    "\n",
    "# Set up Pipeline to allow GridSearching different vectorizers\n",
    "vect_pipe = Pipeline([('vectorizer', CountVectorizer()), # This is just a placeholder\n",
    "                     ('clf',MultinomialNB())])"
   ]
  },
  {
   "cell_type": "code",
   "execution_count": 5,
   "id": "3bb58ec9-6209-43f4-a90b-f643ef21635f",
   "metadata": {},
   "outputs": [],
   "source": [
    "# Define params to try for both vectorizers\n",
    "param_grid_shared = {\n",
    "    \"vectorizer__max_df\": [0.7, 0.8, 0.9],\n",
    "    'vectorizer__min_df': [ 2, 3, 4 ], \n",
    "    \"vectorizer__max_features\": [None, 1000, 2000],\n",
    "    \"vectorizer__stop_words\": [None,'english']\n",
    "}\n",
    "\n",
    "# Setting params for the count vectorizer\n",
    "param_grid_count = {\n",
    "    'vectorizer':[CountVectorizer()],\n",
    "    **param_grid_shared\n",
    "}\n",
    "\n",
    "\n",
    "# Setting params for tfidf vectorizer \n",
    "param_grid_tfidf = {\n",
    "    'vectorizer': [TfidfVectorizer()],\n",
    "    \"vectorizer__norm\": [\"l1\", \"l2\"],\n",
    "    \"vectorizer__use_idf\": [True, False],\n",
    "    **param_grid_shared\n",
    "}\n",
    "\n",
    "# combine into list of params\n",
    "vect_params_combined = [param_grid_count, param_grid_tfidf] "
   ]
  },
  {
   "cell_type": "code",
   "execution_count": 6,
   "id": "c9c84c1a-00a6-48ad-9a83-4f6682a67726",
   "metadata": {},
   "outputs": [],
   "source": [
    "# Define parameters to tune multiple models\n",
    "\n",
    "param_grid_MNB = {\n",
    "    'clf' : [MultinomialNB()],\n",
    "    'clf__alpha' : [.5, 1],\n",
    "}\n",
    "\n",
    "param_grid_logreg = {\n",
    "    'clf': [LogisticRegression(random_state = 42)],\n",
    "    'clf__C' : [.1, 1, 10, 100],\n",
    "}\n",
    "\n",
    "# combine into list of params\n",
    "model_params_combined = [param_grid_MNB, param_grid_logreg]"
   ]
  },
  {
   "cell_type": "code",
   "execution_count": 7,
   "id": "73b866e8-d880-42ad-b6b5-590339900b58",
   "metadata": {},
   "outputs": [
    {
     "data": {
      "text/plain": [
       "4"
      ]
     },
     "execution_count": 7,
     "metadata": {},
     "output_type": "execute_result"
    }
   ],
   "source": [
    "import itertools\n",
    "\n",
    "paired_param_grids = list(itertools.product(vect_params_combined, model_params_combined))\n",
    "len(paired_param_grids)"
   ]
  },
  {
   "cell_type": "code",
   "execution_count": 8,
   "id": "a6a5bfcb-4b2d-41ae-8469-b5c1a5d77786",
   "metadata": {},
   "outputs": [
    {
     "data": {
      "text/plain": [
       "{'vectorizer': [CountVectorizer()],\n",
       " 'vectorizer__max_df': [0.7, 0.8, 0.9],\n",
       " 'vectorizer__min_df': [2, 3, 4],\n",
       " 'vectorizer__max_features': [None, 1000, 2000],\n",
       " 'vectorizer__stop_words': [None, 'english'],\n",
       " 'clf': [MultinomialNB()],\n",
       " 'clf__alpha': [0.5, 1]}"
      ]
     },
     "execution_count": 8,
     "metadata": {},
     "output_type": "execute_result"
    }
   ],
   "source": [
    "final_params = []\n",
    "for vector_params, model_params in  paired_param_grids:\n",
    "    combined = {**vector_params, **model_params}\n",
    "    final_params.append(combined)\n",
    "final_params[0]"
   ]
  },
  {
   "cell_type": "code",
   "execution_count": 9,
   "id": "e981eaf2-05f4-44be-a547-10a0b402ec35",
   "metadata": {},
   "outputs": [
    {
     "name": "stdout",
     "output_type": "stream",
     "text": [
      "Fitting 3 folds for each of 1620 candidates, totalling 4860 fits\n",
      "CPU times: total: 7min 31s\n",
      "Wall time: 1h 16min 12s\n"
     ]
    },
    {
     "name": "stderr",
     "output_type": "stream",
     "text": [
      "C:\\Users\\yupfj\\anaconda3\\envs\\dojo-env\\lib\\site-packages\\sklearn\\linear_model\\_logistic.py:458: ConvergenceWarning: lbfgs failed to converge (status=1):\n",
      "STOP: TOTAL NO. of ITERATIONS REACHED LIMIT.\n",
      "\n",
      "Increase the number of iterations (max_iter) or scale the data as shown in:\n",
      "    https://scikit-learn.org/stable/modules/preprocessing.html\n",
      "Please also refer to the documentation for alternative solver options:\n",
      "    https://scikit-learn.org/stable/modules/linear_model.html#logistic-regression\n",
      "  n_iter_i = _check_optimize_result(\n"
     ]
    },
    {
     "data": {
      "text/html": [
       "<style>#sk-container-id-1 {color: black;background-color: white;}#sk-container-id-1 pre{padding: 0;}#sk-container-id-1 div.sk-toggleable {background-color: white;}#sk-container-id-1 label.sk-toggleable__label {cursor: pointer;display: block;width: 100%;margin-bottom: 0;padding: 0.3em;box-sizing: border-box;text-align: center;}#sk-container-id-1 label.sk-toggleable__label-arrow:before {content: \"▸\";float: left;margin-right: 0.25em;color: #696969;}#sk-container-id-1 label.sk-toggleable__label-arrow:hover:before {color: black;}#sk-container-id-1 div.sk-estimator:hover label.sk-toggleable__label-arrow:before {color: black;}#sk-container-id-1 div.sk-toggleable__content {max-height: 0;max-width: 0;overflow: hidden;text-align: left;background-color: #f0f8ff;}#sk-container-id-1 div.sk-toggleable__content pre {margin: 0.2em;color: black;border-radius: 0.25em;background-color: #f0f8ff;}#sk-container-id-1 input.sk-toggleable__control:checked~div.sk-toggleable__content {max-height: 200px;max-width: 100%;overflow: auto;}#sk-container-id-1 input.sk-toggleable__control:checked~label.sk-toggleable__label-arrow:before {content: \"▾\";}#sk-container-id-1 div.sk-estimator input.sk-toggleable__control:checked~label.sk-toggleable__label {background-color: #d4ebff;}#sk-container-id-1 div.sk-label input.sk-toggleable__control:checked~label.sk-toggleable__label {background-color: #d4ebff;}#sk-container-id-1 input.sk-hidden--visually {border: 0;clip: rect(1px 1px 1px 1px);clip: rect(1px, 1px, 1px, 1px);height: 1px;margin: -1px;overflow: hidden;padding: 0;position: absolute;width: 1px;}#sk-container-id-1 div.sk-estimator {font-family: monospace;background-color: #f0f8ff;border: 1px dotted black;border-radius: 0.25em;box-sizing: border-box;margin-bottom: 0.5em;}#sk-container-id-1 div.sk-estimator:hover {background-color: #d4ebff;}#sk-container-id-1 div.sk-parallel-item::after {content: \"\";width: 100%;border-bottom: 1px solid gray;flex-grow: 1;}#sk-container-id-1 div.sk-label:hover label.sk-toggleable__label {background-color: #d4ebff;}#sk-container-id-1 div.sk-serial::before {content: \"\";position: absolute;border-left: 1px solid gray;box-sizing: border-box;top: 0;bottom: 0;left: 50%;z-index: 0;}#sk-container-id-1 div.sk-serial {display: flex;flex-direction: column;align-items: center;background-color: white;padding-right: 0.2em;padding-left: 0.2em;position: relative;}#sk-container-id-1 div.sk-item {position: relative;z-index: 1;}#sk-container-id-1 div.sk-parallel {display: flex;align-items: stretch;justify-content: center;background-color: white;position: relative;}#sk-container-id-1 div.sk-item::before, #sk-container-id-1 div.sk-parallel-item::before {content: \"\";position: absolute;border-left: 1px solid gray;box-sizing: border-box;top: 0;bottom: 0;left: 50%;z-index: -1;}#sk-container-id-1 div.sk-parallel-item {display: flex;flex-direction: column;z-index: 1;position: relative;background-color: white;}#sk-container-id-1 div.sk-parallel-item:first-child::after {align-self: flex-end;width: 50%;}#sk-container-id-1 div.sk-parallel-item:last-child::after {align-self: flex-start;width: 50%;}#sk-container-id-1 div.sk-parallel-item:only-child::after {width: 0;}#sk-container-id-1 div.sk-dashed-wrapped {border: 1px dashed gray;margin: 0 0.4em 0.5em 0.4em;box-sizing: border-box;padding-bottom: 0.4em;background-color: white;}#sk-container-id-1 div.sk-label label {font-family: monospace;font-weight: bold;display: inline-block;line-height: 1.2em;}#sk-container-id-1 div.sk-label-container {text-align: center;}#sk-container-id-1 div.sk-container {/* jupyter's `normalize.less` sets `[hidden] { display: none; }` but bootstrap.min.css set `[hidden] { display: none !important; }` so we also need the `!important` here to be able to override the default hidden behavior on the sphinx rendered scikit-learn.org. See: https://github.com/scikit-learn/scikit-learn/issues/21755 */display: inline-block !important;position: relative;}#sk-container-id-1 div.sk-text-repr-fallback {display: none;}</style><div id=\"sk-container-id-1\" class=\"sk-top-container\"><div class=\"sk-text-repr-fallback\"><pre>GridSearchCV(cv=3,\n",
       "             estimator=Pipeline(steps=[(&#x27;vectorizer&#x27;, CountVectorizer()),\n",
       "                                       (&#x27;clf&#x27;, MultinomialNB())]),\n",
       "             n_jobs=-1,\n",
       "             param_grid=[{&#x27;clf&#x27;: [MultinomialNB()], &#x27;clf__alpha&#x27;: [0.5, 1],\n",
       "                          &#x27;vectorizer&#x27;: [CountVectorizer()],\n",
       "                          &#x27;vectorizer__max_df&#x27;: [0.7, 0.8, 0.9],\n",
       "                          &#x27;vectorizer__max_features&#x27;: [None, 1000, 2000],\n",
       "                          &#x27;vectorizer__min_df&#x27;: [2, 3, 4],\n",
       "                          &#x27;vectorizer__stop_words&#x27;: [None, &#x27;englis...\n",
       "                         {&#x27;clf&#x27;: [LogisticRegression(C=100, random_state=42)],\n",
       "                          &#x27;clf__C&#x27;: [0.1, 1, 10, 100],\n",
       "                          &#x27;vectorizer&#x27;: [TfidfVectorizer(max_df=0.7, min_df=2,\n",
       "                                                         stop_words=&#x27;english&#x27;)],\n",
       "                          &#x27;vectorizer__max_df&#x27;: [0.7, 0.8, 0.9],\n",
       "                          &#x27;vectorizer__max_features&#x27;: [None, 1000, 2000],\n",
       "                          &#x27;vectorizer__min_df&#x27;: [2, 3, 4],\n",
       "                          &#x27;vectorizer__norm&#x27;: [&#x27;l1&#x27;, &#x27;l2&#x27;],\n",
       "                          &#x27;vectorizer__stop_words&#x27;: [None, &#x27;english&#x27;],\n",
       "                          &#x27;vectorizer__use_idf&#x27;: [True, False]}],\n",
       "             scoring=&#x27;accuracy&#x27;, verbose=1)</pre><b>In a Jupyter environment, please rerun this cell to show the HTML representation or trust the notebook. <br />On GitHub, the HTML representation is unable to render, please try loading this page with nbviewer.org.</b></div><div class=\"sk-container\" hidden><div class=\"sk-item sk-dashed-wrapped\"><div class=\"sk-label-container\"><div class=\"sk-label sk-toggleable\"><input class=\"sk-toggleable__control sk-hidden--visually\" id=\"sk-estimator-id-1\" type=\"checkbox\" ><label for=\"sk-estimator-id-1\" class=\"sk-toggleable__label sk-toggleable__label-arrow\">GridSearchCV</label><div class=\"sk-toggleable__content\"><pre>GridSearchCV(cv=3,\n",
       "             estimator=Pipeline(steps=[(&#x27;vectorizer&#x27;, CountVectorizer()),\n",
       "                                       (&#x27;clf&#x27;, MultinomialNB())]),\n",
       "             n_jobs=-1,\n",
       "             param_grid=[{&#x27;clf&#x27;: [MultinomialNB()], &#x27;clf__alpha&#x27;: [0.5, 1],\n",
       "                          &#x27;vectorizer&#x27;: [CountVectorizer()],\n",
       "                          &#x27;vectorizer__max_df&#x27;: [0.7, 0.8, 0.9],\n",
       "                          &#x27;vectorizer__max_features&#x27;: [None, 1000, 2000],\n",
       "                          &#x27;vectorizer__min_df&#x27;: [2, 3, 4],\n",
       "                          &#x27;vectorizer__stop_words&#x27;: [None, &#x27;englis...\n",
       "                         {&#x27;clf&#x27;: [LogisticRegression(C=100, random_state=42)],\n",
       "                          &#x27;clf__C&#x27;: [0.1, 1, 10, 100],\n",
       "                          &#x27;vectorizer&#x27;: [TfidfVectorizer(max_df=0.7, min_df=2,\n",
       "                                                         stop_words=&#x27;english&#x27;)],\n",
       "                          &#x27;vectorizer__max_df&#x27;: [0.7, 0.8, 0.9],\n",
       "                          &#x27;vectorizer__max_features&#x27;: [None, 1000, 2000],\n",
       "                          &#x27;vectorizer__min_df&#x27;: [2, 3, 4],\n",
       "                          &#x27;vectorizer__norm&#x27;: [&#x27;l1&#x27;, &#x27;l2&#x27;],\n",
       "                          &#x27;vectorizer__stop_words&#x27;: [None, &#x27;english&#x27;],\n",
       "                          &#x27;vectorizer__use_idf&#x27;: [True, False]}],\n",
       "             scoring=&#x27;accuracy&#x27;, verbose=1)</pre></div></div></div><div class=\"sk-parallel\"><div class=\"sk-parallel-item\"><div class=\"sk-item\"><div class=\"sk-label-container\"><div class=\"sk-label sk-toggleable\"><input class=\"sk-toggleable__control sk-hidden--visually\" id=\"sk-estimator-id-2\" type=\"checkbox\" ><label for=\"sk-estimator-id-2\" class=\"sk-toggleable__label sk-toggleable__label-arrow\">estimator: Pipeline</label><div class=\"sk-toggleable__content\"><pre>Pipeline(steps=[(&#x27;vectorizer&#x27;, CountVectorizer()), (&#x27;clf&#x27;, MultinomialNB())])</pre></div></div></div><div class=\"sk-serial\"><div class=\"sk-item\"><div class=\"sk-serial\"><div class=\"sk-item\"><div class=\"sk-estimator sk-toggleable\"><input class=\"sk-toggleable__control sk-hidden--visually\" id=\"sk-estimator-id-3\" type=\"checkbox\" ><label for=\"sk-estimator-id-3\" class=\"sk-toggleable__label sk-toggleable__label-arrow\">CountVectorizer</label><div class=\"sk-toggleable__content\"><pre>CountVectorizer()</pre></div></div></div><div class=\"sk-item\"><div class=\"sk-estimator sk-toggleable\"><input class=\"sk-toggleable__control sk-hidden--visually\" id=\"sk-estimator-id-4\" type=\"checkbox\" ><label for=\"sk-estimator-id-4\" class=\"sk-toggleable__label sk-toggleable__label-arrow\">MultinomialNB</label><div class=\"sk-toggleable__content\"><pre>MultinomialNB()</pre></div></div></div></div></div></div></div></div></div></div></div></div>"
      ],
      "text/plain": [
       "GridSearchCV(cv=3,\n",
       "             estimator=Pipeline(steps=[('vectorizer', CountVectorizer()),\n",
       "                                       ('clf', MultinomialNB())]),\n",
       "             n_jobs=-1,\n",
       "             param_grid=[{'clf': [MultinomialNB()], 'clf__alpha': [0.5, 1],\n",
       "                          'vectorizer': [CountVectorizer()],\n",
       "                          'vectorizer__max_df': [0.7, 0.8, 0.9],\n",
       "                          'vectorizer__max_features': [None, 1000, 2000],\n",
       "                          'vectorizer__min_df': [2, 3, 4],\n",
       "                          'vectorizer__stop_words': [None, 'englis...\n",
       "                         {'clf': [LogisticRegression(C=100, random_state=42)],\n",
       "                          'clf__C': [0.1, 1, 10, 100],\n",
       "                          'vectorizer': [TfidfVectorizer(max_df=0.7, min_df=2,\n",
       "                                                         stop_words='english')],\n",
       "                          'vectorizer__max_df': [0.7, 0.8, 0.9],\n",
       "                          'vectorizer__max_features': [None, 1000, 2000],\n",
       "                          'vectorizer__min_df': [2, 3, 4],\n",
       "                          'vectorizer__norm': ['l1', 'l2'],\n",
       "                          'vectorizer__stop_words': [None, 'english'],\n",
       "                          'vectorizer__use_idf': [True, False]}],\n",
       "             scoring='accuracy', verbose=1)"
      ]
     },
     "execution_count": 9,
     "metadata": {},
     "output_type": "execute_result"
    }
   ],
   "source": [
    "%%time\n",
    "# Create grid search\n",
    "grid_search = GridSearchCV(vect_pipe, final_params, cv=3, scoring = 'accuracy', verbose=1, n_jobs=-1)\n",
    "    \n",
    "    \n",
    "# Fit the model\n",
    "grid_search.fit(X_train, y_train)"
   ]
  },
  {
   "cell_type": "code",
   "execution_count": 10,
   "id": "2ee1d679-e166-455c-92a4-b8e2594d7b56",
   "metadata": {},
   "outputs": [
    {
     "name": "stdout",
     "output_type": "stream",
     "text": [
      "----------------------------------------------------------------------\n",
      " Classification Metrics: Training Data\n",
      "----------------------------------------------------------------------\n",
      "              precision    recall  f1-score   support\n",
      "\n",
      "        FAKE       1.00      1.00      1.00      2393\n",
      "        REAL       1.00      1.00      1.00      2358\n",
      "\n",
      "    accuracy                           1.00      4751\n",
      "   macro avg       1.00      1.00      1.00      4751\n",
      "weighted avg       1.00      1.00      1.00      4751\n",
      "\n"
     ]
    },
    {
     "data": {
      "image/png": "[encoded data removed]",
      "text/plain": [
       "<Figure size 600x400 with 2 Axes>"
      ]
     },
     "metadata": {},
     "output_type": "display_data"
    },
    {
     "name": "stdout",
     "output_type": "stream",
     "text": [
      "\n",
      "----------------------------------------------------------------------\n",
      " Classification Metrics: Test Data\n",
      "----------------------------------------------------------------------\n",
      "              precision    recall  f1-score   support\n",
      "\n",
      "        FAKE       0.91      0.95      0.93       771\n",
      "        REAL       0.95      0.92      0.93       813\n",
      "\n",
      "    accuracy                           0.93      1584\n",
      "   macro avg       0.93      0.93      0.93      1584\n",
      "weighted avg       0.93      0.93      0.93      1584\n",
      "\n"
     ]
    },
    {
     "data": {
      "image/png": "[encoded data removed]",
      "text/plain": [
       "<Figure size 600x400 with 2 Axes>"
      ]
     },
     "metadata": {},
     "output_type": "display_data"
    }
   ],
   "source": [
    "# Now define the best version of the model\n",
    "best_model = grid_search.best_estimator_\n",
    "\n",
    "# Predict and Evaluate with the custom function\n",
    "evaluate_classification(best_model, X_train, y_train, X_test, y_test)"
   ]
  },
  {
   "cell_type": "code",
   "execution_count": 12,
   "id": "183e2ddf-70a9-41f1-9dbd-39d74fe04953",
   "metadata": {},
   "outputs": [
    {
     "data": {
      "text/plain": [
       "{'clf': LogisticRegression(C=100, random_state=42),\n",
       " 'clf__C': 100,\n",
       " 'vectorizer': TfidfVectorizer(max_df=0.7, min_df=2, stop_words='english'),\n",
       " 'vectorizer__max_df': 0.7,\n",
       " 'vectorizer__max_features': None,\n",
       " 'vectorizer__min_df': 2,\n",
       " 'vectorizer__norm': 'l2',\n",
       " 'vectorizer__stop_words': 'english',\n",
       " 'vectorizer__use_idf': True}"
      ]
     },
     "execution_count": 12,
     "metadata": {},
     "output_type": "execute_result"
    }
   ],
   "source": [
    "# Obtain the best combination directly\n",
    "grid_search.best_params_"
   ]
  },
  {
   "cell_type": "code",
   "execution_count": null,
   "id": "7f7e49b3-febb-4298-bba5-3dae7759499a",
   "metadata": {},
   "outputs": [],
   "source": []
  }
 ],
 "metadata": {
  "kernelspec": {
   "display_name": "Python (dojo-env)",
   "language": "python",
   "name": "dojo-env"
  },
  "language_info": {
   "codemirror_mode": {
    "name": "ipython",
    "version": 3
   },
   "file_extension": ".py",
   "mimetype": "text/x-python",
   "name": "python",
   "nbconvert_exporter": "python",
   "pygments_lexer": "ipython3",
   "version": "3.10.10"
  },
  "widgets": {
   "application/vnd.jupyter.widget-state+json": {
    "state": {},
    "version_major": 2,
    "version_minor": 0
   }
  }
 },
 "nbformat": 4,
 "nbformat_minor": 5
}
